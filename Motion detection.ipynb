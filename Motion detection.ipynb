{
 "cells": [
  {
   "cell_type": "code",
   "execution_count": 1,
   "id": "d9a0c4b0",
   "metadata": {},
   "outputs": [
    {
     "data": {
      "text/plain": [
       "<firebase_admin.App at 0x297d6d44730>"
      ]
     },
     "execution_count": 1,
     "metadata": {},
     "output_type": "execute_result"
    }
   ],
   "source": [
    "import firebase_admin\n",
    "from firebase_admin import credentials\n",
    "from firebase_admin import firestore\n",
    "\n",
    "cred = credentials.Certificate('serviceAccountKey.json')\n",
    "firebase_admin.initialize_app(cred)"
   ]
  },
  {
   "cell_type": "code",
   "execution_count": 18,
   "id": "adcaabbd",
   "metadata": {},
   "outputs": [],
   "source": [
    "import cv2\n",
    "import datetime\n",
    "\n",
    "cap = cv2.VideoCapture(0)\n",
    "\n",
    "# Initialize background subtractor\n",
    "fgbg = cv2.createBackgroundSubtractorMOG2()\n",
    "\n",
    "while(1):\n",
    "    ret, frame = cap.read()\n",
    "    \n",
    "    # Apply background subtractor to get foreground mask\n",
    "    fgmask = fgbg.apply(frame)\n",
    "    \n",
    "    # Threshold mask to get binary motion mask\n",
    "    thresh = cv2.threshold(fgmask, 25, 255, cv2.THRESH_BINARY)[1]\n",
    "    \n",
    "    # Display the frame and threshold images    \n",
    "    cv2.imshow('Original', frame)\n",
    "    cv2.imshow('Thresholded', thresh)\n",
    "\n",
    "    \n",
    "    k = cv2.waitKey(30) & 0xff\n",
    "    if k == ord('q'):\n",
    "        break\n",
    "        \n",
    "cap.release()\n",
    "cv2.destroyAllWindows()"
   ]
  },
  {
   "cell_type": "code",
   "execution_count": 19,
   "id": "23c2c1b2",
   "metadata": {},
   "outputs": [],
   "source": [
    "import cv2\n",
    "import datetime\n",
    "import base64\n",
    "import numpy as np\n",
    "from pytz import timezone \n",
    "\n",
    "db = firestore.client()\n",
    "\n",
    "cam = cv2.VideoCapture(0)\n",
    "\n",
    "fgbg = cv2.createBackgroundSubtractorMOG2()\n",
    "c=0\n",
    "_, first_frame = cam.read()\n",
    "first_gray = cv2.cvtColor(first_frame, cv2.COLOR_BGR2GRAY) \n",
    "first_gray = cv2.GaussianBlur(first_gray, (5, 5), 0)\n",
    "\n",
    "while True:\n",
    "    _, frame = cam.read()\n",
    "    \n",
    "    gray = cv2.cvtColor(frame, cv2.COLOR_BGR2GRAY)\n",
    "    gray = cv2.GaussianBlur(gray, (5, 5), 0)\n",
    "\n",
    "    diff = cv2.absdiff(first_gray, gray)\n",
    "    _, thresh = cv2.threshold(diff, 30, 255, cv2.THRESH_BINARY)\n",
    "    \n",
    "    cv2.imshow('Threshold Frame', thresh)\n",
    "    cv2.imshow('Normal Frame', frame)\n",
    "    \n",
    "    if cv2.countNonZero(thresh) > 8000:\n",
    "        current_time = datetime.datetime.now(timezone(\"Asia/Kolkata\"))\n",
    "    \n",
    "        filename = current_time.strftime(\"%Y%m%d-%H%M%S\") + '.jpg'\n",
    "        cv2.imwrite(filename, frame)\n",
    "\n",
    "        doc_ref = db.collection('notifications').document()\n",
    "\n",
    "        _, buffer = cv2.imencode('.jpg',frame)\n",
    "        base64_str = base64.b64encode(buffer).decode('utf-8')\n",
    "        doc_ref.set({\n",
    "                'time':current_time,\n",
    "                'Motion ID': 1255,\n",
    "                'cam_proof':\"data:image/jpeg;base64,\"+base64_str,\n",
    "                'type': \"motion\"\n",
    "        })\n",
    "    \n",
    "        cam.release()\n",
    "        cv2.destroyAllWindows()\n",
    "        break"
   ]
  }
 ],
 "metadata": {
  "kernelspec": {
   "display_name": "Python 3 (ipykernel)",
   "language": "python",
   "name": "python3"
  },
  "language_info": {
   "codemirror_mode": {
    "name": "ipython",
    "version": 3
   },
   "file_extension": ".py",
   "mimetype": "text/x-python",
   "name": "python",
   "nbconvert_exporter": "python",
   "pygments_lexer": "ipython3",
   "version": "3.9.13"
  }
 },
 "nbformat": 4,
 "nbformat_minor": 5
}
